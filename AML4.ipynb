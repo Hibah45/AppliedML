{
  "cells": [
    {
      "cell_type": "markdown",
      "metadata": {
        "id": "4RmzOcHpB2QO"
      },
      "source": [
        "## NAME- HIBAH MOHAMMED GHOUSE\n",
        "## ZID-Z1945894\n"
      ]
    },
    {
      "cell_type": "markdown",
      "source": [
        "Import Libraries"
      ],
      "metadata": {
        "id": "D4YHYWH0VV4S"
      }
    },
    {
      "cell_type": "code",
      "execution_count": 1,
      "metadata": {
        "id": "8gC02M0W9AKo"
      },
      "outputs": [],
      "source": [
        "import numpy as np\n",
        "import pandas as pd\n",
        "import seaborn as sns\n",
        "import matplotlib.pyplot as plt\n",
        "%matplotlib inline\n",
        "from sklearn import linear_model, preprocessing\n",
        "from sklearn.preprocessing import OneHotEncoder\n",
        "from sklearn.preprocessing import StandardScaler\n",
        "from sklearn.impute import SimpleImputer\n",
        "from sklearn.compose import make_column_transformer\n",
        "from sklearn.linear_model import LinearRegression\n",
        "from sklearn.linear_model import Ridge\n",
        "from sklearn.linear_model import Lasso\n",
        "from sklearn.linear_model import ElasticNet\n",
        "from sklearn.compose import ColumnTransformer\n",
        "from sklearn.model_selection import train_test_split\n",
        "from sklearn.model_selection import GridSearchCV \n",
        "\n",
        "from sklearn.pipeline import make_pipeline\n",
        "from sklearn.pipeline import Pipeline\n",
        "from sklearn.model_selection import cross_val_score\n",
        "\n"
      ]
    },
    {
      "cell_type": "markdown",
      "source": [
        "Loading data and analysis"
      ],
      "metadata": {
        "id": "CFgoOS8EVYD0"
      }
    },
    {
      "cell_type": "code",
      "execution_count": 2,
      "metadata": {
        "id": "h-H6HbLr-Xun"
      },
      "outputs": [],
      "source": [
        "fileURL = \"https://github.com/Hibah45/AppliedML/blob/main/healthcare-dataset-stroke-data.csv?raw=True\"\n",
        "\n",
        "df = pd.read_csv(fileURL)\n",
        "\n",
        "df.head(5)\n",
        "\n",
        "target = df['stroke']"
      ]
    },
    {
      "cell_type": "code",
      "execution_count": 3,
      "metadata": {
        "colab": {
          "base_uri": "https://localhost:8080/"
        },
        "id": "G4JzNL0V-l1s",
        "outputId": "a9a0eabc-7bb0-41ce-80be-2a7c14851d02"
      },
      "outputs": [
        {
          "output_type": "execute_result",
          "data": {
            "text/plain": [
              "(5110, 12)"
            ]
          },
          "metadata": {},
          "execution_count": 3
        }
      ],
      "source": [
        "df.shape"
      ]
    },
    {
      "cell_type": "code",
      "execution_count": 4,
      "metadata": {
        "colab": {
          "base_uri": "https://localhost:8080/"
        },
        "id": "mcnGSHMd_Nfq",
        "outputId": "def8d621-a6e0-4e2f-fc1e-b7d2fec59cf3"
      },
      "outputs": [
        {
          "output_type": "execute_result",
          "data": {
            "text/plain": [
              "0    4861\n",
              "1     249\n",
              "Name: stroke, dtype: int64"
            ]
          },
          "metadata": {},
          "execution_count": 4
        }
      ],
      "source": [
        "df['stroke'].value_counts() #highly imbalanced data"
      ]
    },
    {
      "cell_type": "code",
      "execution_count": 5,
      "metadata": {
        "colab": {
          "base_uri": "https://localhost:8080/"
        },
        "id": "V2u35VQRDc91",
        "outputId": "4945ff5b-f724-4832-d038-88f11f98bf0a"
      },
      "outputs": [
        {
          "output_type": "stream",
          "name": "stdout",
          "text": [
            "<class 'pandas.core.frame.DataFrame'>\n",
            "RangeIndex: 5110 entries, 0 to 5109\n",
            "Data columns (total 12 columns):\n",
            " #   Column             Non-Null Count  Dtype  \n",
            "---  ------             --------------  -----  \n",
            " 0   id                 5110 non-null   int64  \n",
            " 1   gender             5110 non-null   object \n",
            " 2   age                5110 non-null   float64\n",
            " 3   hypertension       5110 non-null   int64  \n",
            " 4   heart_disease      5110 non-null   int64  \n",
            " 5   ever_married       5110 non-null   object \n",
            " 6   work_type          5110 non-null   object \n",
            " 7   Residence_type     5110 non-null   object \n",
            " 8   avg_glucose_level  5110 non-null   float64\n",
            " 9   bmi                4909 non-null   float64\n",
            " 10  smoking_status     5110 non-null   object \n",
            " 11  stroke             5110 non-null   int64  \n",
            "dtypes: float64(3), int64(4), object(5)\n",
            "memory usage: 479.2+ KB\n"
          ]
        }
      ],
      "source": [
        "df.info()"
      ]
    },
    {
      "cell_type": "code",
      "execution_count": 6,
      "metadata": {
        "colab": {
          "base_uri": "https://localhost:8080/"
        },
        "id": "KKgAYJtvDvT_",
        "outputId": "d5dbb48f-4256-4344-d3a2-c66885481875"
      },
      "outputs": [
        {
          "output_type": "execute_result",
          "data": {
            "text/plain": [
              "id                     0\n",
              "gender                 0\n",
              "age                    0\n",
              "hypertension           0\n",
              "heart_disease          0\n",
              "ever_married           0\n",
              "work_type              0\n",
              "Residence_type         0\n",
              "avg_glucose_level      0\n",
              "bmi                  201\n",
              "smoking_status         0\n",
              "stroke                 0\n",
              "dtype: int64"
            ]
          },
          "metadata": {},
          "execution_count": 6
        }
      ],
      "source": [
        "df.apply(lambda x:sum(x.isnull()),axis=0)"
      ]
    },
    {
      "cell_type": "code",
      "execution_count": 7,
      "metadata": {
        "colab": {
          "base_uri": "https://localhost:8080/"
        },
        "id": "YoVB2dTEEiTb",
        "outputId": "8631be0a-82f3-49e7-ce4d-1e595075f13b"
      },
      "outputs": [
        {
          "output_type": "execute_result",
          "data": {
            "text/plain": [
              "id                   0.000000\n",
              "gender               0.000000\n",
              "age                  0.000000\n",
              "hypertension         0.000000\n",
              "heart_disease        0.000000\n",
              "ever_married         0.000000\n",
              "work_type            0.000000\n",
              "Residence_type       0.000000\n",
              "avg_glucose_level    0.000000\n",
              "bmi                  0.039335\n",
              "smoking_status       0.000000\n",
              "stroke               0.000000\n",
              "dtype: float64"
            ]
          },
          "metadata": {},
          "execution_count": 7
        }
      ],
      "source": [
        "df.isnull().sum()/len(df)"
      ]
    },
    {
      "cell_type": "code",
      "execution_count": 8,
      "metadata": {
        "colab": {
          "base_uri": "https://localhost:8080/"
        },
        "id": "rynhvwvwEwfJ",
        "outputId": "79c303f7-3e57-4043-cf2b-83176535c095"
      },
      "outputs": [
        {
          "output_type": "execute_result",
          "data": {
            "text/plain": [
              "id                   5110\n",
              "gender                  3\n",
              "age                   104\n",
              "hypertension            2\n",
              "heart_disease           2\n",
              "ever_married            2\n",
              "work_type               5\n",
              "Residence_type          2\n",
              "avg_glucose_level    3979\n",
              "bmi                   418\n",
              "smoking_status          4\n",
              "stroke                  2\n",
              "dtype: int64"
            ]
          },
          "metadata": {},
          "execution_count": 8
        }
      ],
      "source": [
        "df.nunique()"
      ]
    },
    {
      "cell_type": "markdown",
      "metadata": {
        "id": "4ssaVVmAFySY"
      },
      "source": [
        "Observation- Except age, avg_glucose_level and bmi all other features has less unique values"
      ]
    },
    {
      "cell_type": "markdown",
      "metadata": {
        "id": "i1eC77zNBzxX"
      },
      "source": [
        "## 1. Train a Decision Tree, Random Forest and Gradient Boosting algorithm to set a baseline performance. Use ROC AUC and Average Precision metrics for your evaluation. Also, show the precision and recall for both classes. Don’t balance the dataset."
      ]
    },
    {
      "cell_type": "code",
      "execution_count": 9,
      "metadata": {
        "id": "sl0MX6rsnD3s"
      },
      "outputs": [],
      "source": [
        "target = df['stroke']\n",
        "data = df.drop(['stroke', 'id'], axis = 1);"
      ]
    },
    {
      "cell_type": "code",
      "execution_count": 10,
      "metadata": {
        "colab": {
          "base_uri": "https://localhost:8080/",
          "height": 206
        },
        "id": "oAZkgLLdn061",
        "outputId": "a479963f-f9fe-4098-c5b9-16b67ea22568"
      },
      "outputs": [
        {
          "output_type": "execute_result",
          "data": {
            "text/plain": [
              "   gender   age  hypertension  heart_disease ever_married      work_type  \\\n",
              "0    Male  67.0             0              1          Yes        Private   \n",
              "1  Female  61.0             0              0          Yes  Self-employed   \n",
              "2    Male  80.0             0              1          Yes        Private   \n",
              "3  Female  49.0             0              0          Yes        Private   \n",
              "4  Female  79.0             1              0          Yes  Self-employed   \n",
              "\n",
              "  Residence_type  avg_glucose_level   bmi   smoking_status  \n",
              "0          Urban             228.69  36.6  formerly smoked  \n",
              "1          Rural             202.21   NaN     never smoked  \n",
              "2          Rural             105.92  32.5     never smoked  \n",
              "3          Urban             171.23  34.4           smokes  \n",
              "4          Rural             174.12  24.0     never smoked  "
            ],
            "text/html": [
              "\n",
              "  <div id=\"df-aa078252-8269-4b94-aacd-2e60c7cc3ec1\">\n",
              "    <div class=\"colab-df-container\">\n",
              "      <div>\n",
              "<style scoped>\n",
              "    .dataframe tbody tr th:only-of-type {\n",
              "        vertical-align: middle;\n",
              "    }\n",
              "\n",
              "    .dataframe tbody tr th {\n",
              "        vertical-align: top;\n",
              "    }\n",
              "\n",
              "    .dataframe thead th {\n",
              "        text-align: right;\n",
              "    }\n",
              "</style>\n",
              "<table border=\"1\" class=\"dataframe\">\n",
              "  <thead>\n",
              "    <tr style=\"text-align: right;\">\n",
              "      <th></th>\n",
              "      <th>gender</th>\n",
              "      <th>age</th>\n",
              "      <th>hypertension</th>\n",
              "      <th>heart_disease</th>\n",
              "      <th>ever_married</th>\n",
              "      <th>work_type</th>\n",
              "      <th>Residence_type</th>\n",
              "      <th>avg_glucose_level</th>\n",
              "      <th>bmi</th>\n",
              "      <th>smoking_status</th>\n",
              "    </tr>\n",
              "  </thead>\n",
              "  <tbody>\n",
              "    <tr>\n",
              "      <th>0</th>\n",
              "      <td>Male</td>\n",
              "      <td>67.0</td>\n",
              "      <td>0</td>\n",
              "      <td>1</td>\n",
              "      <td>Yes</td>\n",
              "      <td>Private</td>\n",
              "      <td>Urban</td>\n",
              "      <td>228.69</td>\n",
              "      <td>36.6</td>\n",
              "      <td>formerly smoked</td>\n",
              "    </tr>\n",
              "    <tr>\n",
              "      <th>1</th>\n",
              "      <td>Female</td>\n",
              "      <td>61.0</td>\n",
              "      <td>0</td>\n",
              "      <td>0</td>\n",
              "      <td>Yes</td>\n",
              "      <td>Self-employed</td>\n",
              "      <td>Rural</td>\n",
              "      <td>202.21</td>\n",
              "      <td>NaN</td>\n",
              "      <td>never smoked</td>\n",
              "    </tr>\n",
              "    <tr>\n",
              "      <th>2</th>\n",
              "      <td>Male</td>\n",
              "      <td>80.0</td>\n",
              "      <td>0</td>\n",
              "      <td>1</td>\n",
              "      <td>Yes</td>\n",
              "      <td>Private</td>\n",
              "      <td>Rural</td>\n",
              "      <td>105.92</td>\n",
              "      <td>32.5</td>\n",
              "      <td>never smoked</td>\n",
              "    </tr>\n",
              "    <tr>\n",
              "      <th>3</th>\n",
              "      <td>Female</td>\n",
              "      <td>49.0</td>\n",
              "      <td>0</td>\n",
              "      <td>0</td>\n",
              "      <td>Yes</td>\n",
              "      <td>Private</td>\n",
              "      <td>Urban</td>\n",
              "      <td>171.23</td>\n",
              "      <td>34.4</td>\n",
              "      <td>smokes</td>\n",
              "    </tr>\n",
              "    <tr>\n",
              "      <th>4</th>\n",
              "      <td>Female</td>\n",
              "      <td>79.0</td>\n",
              "      <td>1</td>\n",
              "      <td>0</td>\n",
              "      <td>Yes</td>\n",
              "      <td>Self-employed</td>\n",
              "      <td>Rural</td>\n",
              "      <td>174.12</td>\n",
              "      <td>24.0</td>\n",
              "      <td>never smoked</td>\n",
              "    </tr>\n",
              "  </tbody>\n",
              "</table>\n",
              "</div>\n",
              "      <button class=\"colab-df-convert\" onclick=\"convertToInteractive('df-aa078252-8269-4b94-aacd-2e60c7cc3ec1')\"\n",
              "              title=\"Convert this dataframe to an interactive table.\"\n",
              "              style=\"display:none;\">\n",
              "        \n",
              "  <svg xmlns=\"http://www.w3.org/2000/svg\" height=\"24px\"viewBox=\"0 0 24 24\"\n",
              "       width=\"24px\">\n",
              "    <path d=\"M0 0h24v24H0V0z\" fill=\"none\"/>\n",
              "    <path d=\"M18.56 5.44l.94 2.06.94-2.06 2.06-.94-2.06-.94-.94-2.06-.94 2.06-2.06.94zm-11 1L8.5 8.5l.94-2.06 2.06-.94-2.06-.94L8.5 2.5l-.94 2.06-2.06.94zm10 10l.94 2.06.94-2.06 2.06-.94-2.06-.94-.94-2.06-.94 2.06-2.06.94z\"/><path d=\"M17.41 7.96l-1.37-1.37c-.4-.4-.92-.59-1.43-.59-.52 0-1.04.2-1.43.59L10.3 9.45l-7.72 7.72c-.78.78-.78 2.05 0 2.83L4 21.41c.39.39.9.59 1.41.59.51 0 1.02-.2 1.41-.59l7.78-7.78 2.81-2.81c.8-.78.8-2.07 0-2.86zM5.41 20L4 18.59l7.72-7.72 1.47 1.35L5.41 20z\"/>\n",
              "  </svg>\n",
              "      </button>\n",
              "      \n",
              "  <style>\n",
              "    .colab-df-container {\n",
              "      display:flex;\n",
              "      flex-wrap:wrap;\n",
              "      gap: 12px;\n",
              "    }\n",
              "\n",
              "    .colab-df-convert {\n",
              "      background-color: #E8F0FE;\n",
              "      border: none;\n",
              "      border-radius: 50%;\n",
              "      cursor: pointer;\n",
              "      display: none;\n",
              "      fill: #1967D2;\n",
              "      height: 32px;\n",
              "      padding: 0 0 0 0;\n",
              "      width: 32px;\n",
              "    }\n",
              "\n",
              "    .colab-df-convert:hover {\n",
              "      background-color: #E2EBFA;\n",
              "      box-shadow: 0px 1px 2px rgba(60, 64, 67, 0.3), 0px 1px 3px 1px rgba(60, 64, 67, 0.15);\n",
              "      fill: #174EA6;\n",
              "    }\n",
              "\n",
              "    [theme=dark] .colab-df-convert {\n",
              "      background-color: #3B4455;\n",
              "      fill: #D2E3FC;\n",
              "    }\n",
              "\n",
              "    [theme=dark] .colab-df-convert:hover {\n",
              "      background-color: #434B5C;\n",
              "      box-shadow: 0px 1px 3px 1px rgba(0, 0, 0, 0.15);\n",
              "      filter: drop-shadow(0px 1px 2px rgba(0, 0, 0, 0.3));\n",
              "      fill: #FFFFFF;\n",
              "    }\n",
              "  </style>\n",
              "\n",
              "      <script>\n",
              "        const buttonEl =\n",
              "          document.querySelector('#df-aa078252-8269-4b94-aacd-2e60c7cc3ec1 button.colab-df-convert');\n",
              "        buttonEl.style.display =\n",
              "          google.colab.kernel.accessAllowed ? 'block' : 'none';\n",
              "\n",
              "        async function convertToInteractive(key) {\n",
              "          const element = document.querySelector('#df-aa078252-8269-4b94-aacd-2e60c7cc3ec1');\n",
              "          const dataTable =\n",
              "            await google.colab.kernel.invokeFunction('convertToInteractive',\n",
              "                                                     [key], {});\n",
              "          if (!dataTable) return;\n",
              "\n",
              "          const docLinkHtml = 'Like what you see? Visit the ' +\n",
              "            '<a target=\"_blank\" href=https://colab.research.google.com/notebooks/data_table.ipynb>data table notebook</a>'\n",
              "            + ' to learn more about interactive tables.';\n",
              "          element.innerHTML = '';\n",
              "          dataTable['output_type'] = 'display_data';\n",
              "          await google.colab.output.renderOutput(dataTable, element);\n",
              "          const docLink = document.createElement('div');\n",
              "          docLink.innerHTML = docLinkHtml;\n",
              "          element.appendChild(docLink);\n",
              "        }\n",
              "      </script>\n",
              "    </div>\n",
              "  </div>\n",
              "  "
            ]
          },
          "metadata": {},
          "execution_count": 10
        }
      ],
      "source": [
        "data.head()"
      ]
    },
    {
      "cell_type": "code",
      "execution_count": 11,
      "metadata": {
        "id": "IqsukOEqn4WS"
      },
      "outputs": [],
      "source": [
        "num = data.select_dtypes(exclude=object)\n",
        "numerical_features = list(num)\n",
        "\n",
        "cat = data.select_dtypes(include=object)\n",
        "categorical_features = list(cat)\n"
      ]
    },
    {
      "cell_type": "code",
      "execution_count": 12,
      "metadata": {
        "colab": {
          "base_uri": "https://localhost:8080/"
        },
        "id": "IBIFUbDvoKYK",
        "outputId": "2aefa7f0-2215-4069-cbfe-531d35f7f93f"
      },
      "outputs": [
        {
          "output_type": "execute_result",
          "data": {
            "text/plain": [
              "['age', 'hypertension', 'heart_disease', 'avg_glucose_level', 'bmi']"
            ]
          },
          "metadata": {},
          "execution_count": 12
        }
      ],
      "source": [
        "numerical_features"
      ]
    },
    {
      "cell_type": "code",
      "execution_count": 13,
      "metadata": {
        "colab": {
          "base_uri": "https://localhost:8080/"
        },
        "id": "bCFxVb45oRpL",
        "outputId": "8fefeb4b-979c-49aa-e036-23d4b342d670"
      },
      "outputs": [
        {
          "output_type": "execute_result",
          "data": {
            "text/plain": [
              "['gender', 'ever_married', 'work_type', 'Residence_type', 'smoking_status']"
            ]
          },
          "metadata": {},
          "execution_count": 13
        }
      ],
      "source": [
        "categorical_features"
      ]
    },
    {
      "cell_type": "markdown",
      "source": [
        "Handling missing values"
      ],
      "metadata": {
        "id": "nODd6gPpVcKH"
      }
    },
    {
      "cell_type": "code",
      "execution_count": 14,
      "metadata": {
        "id": "8cJf-umOombZ"
      },
      "outputs": [],
      "source": [
        "ohe = OneHotEncoder(handle_unknown='ignore')\n",
        "scaler = StandardScaler()\n",
        "imputer = SimpleImputer(missing_values=np.nan, strategy='mean')\n",
        "ct = make_column_transformer((ohe, categorical_features), (imputer, numerical_features), (scaler, numerical_features))\n",
        "\n",
        "\n",
        "# numeric transformer imputes missing numeric data with values using mean strategy then performance normalization using standardscaler\n",
        "numeric_transformer = Pipeline(steps=[\n",
        "    (\"imputer\", SimpleImputer(strategy=\"mean\")), \n",
        "    (\"scaler\", StandardScaler())\n",
        "])\n",
        "\n",
        "\n",
        "# categorical transformer imputes NaN categorical values with string 'missing' which is treated as a new value \n",
        "# then applies OneHotEncoding on imputed data\n",
        "categorical_transformer = Pipeline(steps=[\n",
        "    ('imputer', SimpleImputer(strategy='constant', fill_value='missing')),\n",
        "    ('encoder', OneHotEncoder(handle_unknown='ignore'))\n",
        "])\n",
        "\n",
        "\n",
        "# preprocessor applies above two transoformations in that order\n",
        "preprocessor = ColumnTransformer(\n",
        "    transformers=[\n",
        "        (\"num\", numeric_transformer, numerical_features),\n",
        "        (\"cat\", categorical_transformer, categorical_features),\n",
        "    ]\n",
        ")\n",
        "\n"
      ]
    },
    {
      "cell_type": "code",
      "execution_count": 15,
      "metadata": {
        "id": "4lPVl5MpvaMY"
      },
      "outputs": [],
      "source": [
        "trainX, testX, trainY, testY = train_test_split(data, target, test_size=0.3)"
      ]
    },
    {
      "cell_type": "code",
      "execution_count": 16,
      "metadata": {
        "id": "3d5qyCyExT2S"
      },
      "outputs": [],
      "source": [
        "from sklearn.model_selection import cross_validate\n",
        "from sklearn.metrics import classification_report\n",
        "\n",
        "def getMetrics(pipeline, X, y, testX, testY, cv = 3):\n",
        "    scores = cross_validate(pipeline, X, y, cv=cv, scoring=('roc_auc', 'average_precision', 'recall'))\n",
        "    pipeline.fit(X, y)\n",
        "    predY = pipeline.predict(testX);\n",
        "    return scores['test_roc_auc'].mean(), scores['test_average_precision'].mean(), scores['test_recall'].mean(), classification_report(predY, testY)\n",
        "\n",
        "\n",
        "def printMetrics(pipeline, X, y, testX, testY, cv = 3):\n",
        "    roc, avg_precision, recall, clf_report = getMetrics(pipeline, X, y, testX, testY, cv = 3)\n",
        "    print(\"roc = \", roc)\n",
        "    print(\"average precision = \", avg_precision)\n",
        "    print(\"recall = \" , recall)\n",
        "    print(\"classification report\\n\", clf_report, \"\\n\");"
      ]
    },
    {
      "cell_type": "markdown",
      "source": [
        "Model evaluation with imbalanced dataset"
      ],
      "metadata": {
        "id": "hp61Xs6wVlFT"
      }
    },
    {
      "cell_type": "code",
      "execution_count": 17,
      "metadata": {
        "colab": {
          "base_uri": "https://localhost:8080/"
        },
        "id": "J8ieMgAe9Tmm",
        "outputId": "e30761ca-b306-45d9-84dc-c3e0bf1ba15c"
      },
      "outputs": [
        {
          "output_type": "stream",
          "name": "stdout",
          "text": [
            "Decision tree accuracy before balancing \n",
            "roc =  0.7664599938855564\n",
            "average precision =  0.13986881053946196\n",
            "recall =  0.04253647586980921\n",
            "classification report\n",
            "               precision    recall  f1-score   support\n",
            "\n",
            "           0       1.00      0.95      0.97      1532\n",
            "           1       0.01      1.00      0.02         1\n",
            "\n",
            "    accuracy                           0.95      1533\n",
            "   macro avg       0.51      0.97      0.50      1533\n",
            "weighted avg       1.00      0.95      0.97      1533\n",
            " \n",
            "\n",
            "Random forest accuracy before balancing \n"
          ]
        },
        {
          "output_type": "stream",
          "name": "stderr",
          "text": [
            "/usr/local/lib/python3.7/dist-packages/sklearn/metrics/_classification.py:1318: UndefinedMetricWarning: Recall and F-score are ill-defined and being set to 0.0 in labels with no true samples. Use `zero_division` parameter to control this behavior.\n",
            "  _warn_prf(average, modifier, msg_start, len(result))\n",
            "/usr/local/lib/python3.7/dist-packages/sklearn/metrics/_classification.py:1318: UndefinedMetricWarning: Recall and F-score are ill-defined and being set to 0.0 in labels with no true samples. Use `zero_division` parameter to control this behavior.\n",
            "  _warn_prf(average, modifier, msg_start, len(result))\n",
            "/usr/local/lib/python3.7/dist-packages/sklearn/metrics/_classification.py:1318: UndefinedMetricWarning: Recall and F-score are ill-defined and being set to 0.0 in labels with no true samples. Use `zero_division` parameter to control this behavior.\n",
            "  _warn_prf(average, modifier, msg_start, len(result))\n"
          ]
        },
        {
          "output_type": "stream",
          "name": "stdout",
          "text": [
            "roc =  0.8362221073402565\n",
            "average precision =  0.19709076478799403\n",
            "recall =  0.0\n",
            "classification report\n",
            "               precision    recall  f1-score   support\n",
            "\n",
            "           0       1.00      0.94      0.97      1533\n",
            "           1       0.00      0.00      0.00         0\n",
            "\n",
            "    accuracy                           0.94      1533\n",
            "   macro avg       0.50      0.47      0.49      1533\n",
            "weighted avg       1.00      0.94      0.97      1533\n",
            " \n",
            "\n",
            "Gradient boosting algorithm accuracy before balancing \n",
            "roc =  0.8227618099183731\n",
            "average precision =  0.17282924137327582\n",
            "recall =  0.054994388327721654\n",
            "classification report\n",
            "               precision    recall  f1-score   support\n",
            "\n",
            "           0       1.00      0.95      0.97      1527\n",
            "           1       0.05      0.67      0.09         6\n",
            "\n",
            "    accuracy                           0.95      1533\n",
            "   macro avg       0.52      0.81      0.53      1533\n",
            "weighted avg       0.99      0.95      0.97      1533\n",
            " \n",
            "\n"
          ]
        }
      ],
      "source": [
        "from sklearn.ensemble import RandomForestClassifier\n",
        "from sklearn.tree import DecisionTreeClassifier\n",
        "from sklearn.ensemble import GradientBoostingClassifier\n",
        "\n",
        "tree_clf = DecisionTreeClassifier(max_depth=4)\n",
        "decision_tree_pipe = make_pipeline(preprocessor, tree_clf)\n",
        "\n",
        "\n",
        "rf_clf = RandomForestClassifier(max_depth=2, random_state=0)\n",
        "rf_pipe = make_pipeline(preprocessor, rf_clf)\n",
        "\n",
        "gb_clf = GradientBoostingClassifier()\n",
        "gb_pipe = make_pipeline(preprocessor, gb_clf)\n",
        "\n",
        "\n",
        "print(\"Decision tree accuracy before balancing \")\n",
        "printMetrics(decision_tree_pipe, trainX, trainY, testX, testY, cv=5)\n",
        "print(\"Random forest accuracy before balancing \")\n",
        "printMetrics(rf_pipe, trainX, trainY, testX, testY,cv=5)\n",
        "print(\"Gradient boosting algorithm accuracy before balancing \")\n",
        "printMetrics(gb_pipe, trainX, trainY, testX, testY,cv=5)\n"
      ]
    },
    {
      "cell_type": "code",
      "execution_count": 18,
      "metadata": {
        "colab": {
          "base_uri": "https://localhost:8080/"
        },
        "id": "DeNH4zRn96of",
        "outputId": "c3109bd3-93bc-4a56-c129-2d1e86350d2b"
      },
      "outputs": [
        {
          "output_type": "stream",
          "name": "stdout",
          "text": [
            "Requirement already satisfied: imbalanced-learn in /usr/local/lib/python3.7/dist-packages (0.8.1)\n",
            "Collecting imbalanced-learn\n",
            "  Downloading imbalanced_learn-0.9.0-py3-none-any.whl (199 kB)\n",
            "\u001b[K     |████████████████████████████████| 199 kB 5.5 MB/s \n",
            "\u001b[?25hRequirement already satisfied: scikit-learn>=1.0.1 in /usr/local/lib/python3.7/dist-packages (from imbalanced-learn) (1.0.2)\n",
            "Requirement already satisfied: scipy>=1.1.0 in /usr/local/lib/python3.7/dist-packages (from imbalanced-learn) (1.4.1)\n",
            "Requirement already satisfied: threadpoolctl>=2.0.0 in /usr/local/lib/python3.7/dist-packages (from imbalanced-learn) (3.1.0)\n",
            "Requirement already satisfied: numpy>=1.14.6 in /usr/local/lib/python3.7/dist-packages (from imbalanced-learn) (1.21.5)\n",
            "Requirement already satisfied: joblib>=0.11 in /usr/local/lib/python3.7/dist-packages (from imbalanced-learn) (1.1.0)\n",
            "Installing collected packages: imbalanced-learn\n",
            "  Attempting uninstall: imbalanced-learn\n",
            "    Found existing installation: imbalanced-learn 0.8.1\n",
            "    Uninstalling imbalanced-learn-0.8.1:\n",
            "      Successfully uninstalled imbalanced-learn-0.8.1\n",
            "Successfully installed imbalanced-learn-0.9.0\n"
          ]
        }
      ],
      "source": [
        "!pip install -U imbalanced-learn"
      ]
    },
    {
      "cell_type": "markdown",
      "metadata": {
        "id": "fDIofu77P58H"
      },
      "source": [
        "##Q2. Balance the dataset using any 4 methods we have discussed in the class and again train a Decision Tree, Random Forest and Gradient Boosting algorithm to compare the performance with models from Q1."
      ]
    },
    {
      "cell_type": "markdown",
      "source": [
        "Model evaluation- DATA BALANCING TECHNIQUES"
      ],
      "metadata": {
        "id": "FrMdIUwFVtoK"
      }
    },
    {
      "cell_type": "code",
      "execution_count": 19,
      "metadata": {
        "colab": {
          "base_uri": "https://localhost:8080/"
        },
        "id": "I-jFjFT8xqH0",
        "outputId": "4933d500-c7f2-4b46-ad49-3a34c16ef740"
      },
      "outputs": [
        {
          "output_type": "stream",
          "name": "stdout",
          "text": [
            "decision tree metrics after undersampling\n",
            "roc =  0.791331904319092\n",
            "average precision =  0.12038118342890548\n",
            "recall =  0.7615039281705949\n",
            "classification report\n",
            "               precision    recall  f1-score   support\n",
            "\n",
            "           0       0.69      0.98      0.81      1018\n",
            "           1       0.78      0.13      0.22       515\n",
            "\n",
            "    accuracy                           0.69      1533\n",
            "   macro avg       0.73      0.55      0.52      1533\n",
            "weighted avg       0.72      0.69      0.61      1533\n",
            " \n",
            "\n",
            "decision tree metrics after oversampling\n",
            "roc =  0.7665779456676168\n",
            "average precision =  0.1316753369393453\n",
            "recall =  0.7059483726150392\n",
            "classification report\n",
            "               precision    recall  f1-score   support\n",
            "\n",
            "           0       0.73      0.98      0.84      1077\n",
            "           1       0.79      0.15      0.25       456\n",
            "\n",
            "    accuracy                           0.73      1533\n",
            "   macro avg       0.76      0.57      0.54      1533\n",
            "weighted avg       0.75      0.73      0.66      1533\n",
            " \n",
            "\n",
            "decision tree metrics with class weights\n",
            "roc =  0.7579143445081155\n",
            "average precision =  0.12194636167812341\n",
            "recall =  0.6701459034792369\n",
            "classification report\n",
            "               precision    recall  f1-score   support\n",
            "\n",
            "           0       0.71      0.98      0.83      1051\n",
            "           1       0.78      0.14      0.23       482\n",
            "\n",
            "    accuracy                           0.72      1533\n",
            "   macro avg       0.74      0.56      0.53      1533\n",
            "weighted avg       0.73      0.72      0.64      1533\n",
            " \n",
            "\n",
            "decision tree metrics with edited nearst neighbors\n",
            "roc =  0.7632429934790771\n",
            "average precision =  0.14417934948213085\n",
            "recall =  0.17081930415263746\n",
            "classification report\n",
            "               precision    recall  f1-score   support\n",
            "\n",
            "           0       0.94      0.96      0.95      1415\n",
            "           1       0.29      0.21      0.25       118\n",
            "\n",
            "    accuracy                           0.90      1533\n",
            "   macro avg       0.61      0.58      0.60      1533\n",
            "weighted avg       0.89      0.90      0.89      1533\n",
            " \n",
            "\n"
          ]
        }
      ],
      "source": [
        "from imblearn.pipeline import make_pipeline as make_imb_pipeline\n",
        "from imblearn.under_sampling import RandomUnderSampler\n",
        "from imblearn.over_sampling import RandomOverSampler\n",
        "from imblearn.under_sampling import EditedNearestNeighbours\n",
        "from imblearn.under_sampling import CondensedNearestNeighbour\n",
        "\n",
        "undersample_tree_pipe = make_imb_pipeline(RandomUnderSampler(), decision_tree_pipe)\n",
        "oversample_tree_pipe = make_imb_pipeline(RandomOverSampler(), decision_tree_pipe)\n",
        "tree_enn_pipe = make_imb_pipeline(preprocessor, EditedNearestNeighbours(n_neighbors=5), DecisionTreeClassifier(max_depth=4))\n",
        "\n",
        "\n",
        "tree_with_cw = DecisionTreeClassifier(max_depth=4, class_weight='balanced')\n",
        "tree_with_cw_pipe = make_pipeline(preprocessor, tree_with_cw)\n",
        "\n",
        "\n",
        "\n",
        "print(\"decision tree metrics after undersampling\")\n",
        "printMetrics(undersample_tree_pipe, trainX, trainY, testX, testY, 5)\n",
        "\n",
        "print(\"decision tree metrics after oversampling\")\n",
        "printMetrics(oversample_tree_pipe, trainX, trainY, testX, testY, 5)\n",
        "\n",
        "print(\"decision tree metrics with class weights\")\n",
        "printMetrics(tree_with_cw_pipe, trainX, trainY, testX, testY, 5)\n",
        "\n",
        "print(\"decision tree metrics with edited nearst neighbors\")\n",
        "printMetrics(tree_enn_pipe, trainX, trainY, testX, testY, 5)\n",
        "\n",
        "\n"
      ]
    },
    {
      "cell_type": "code",
      "execution_count": 20,
      "metadata": {
        "colab": {
          "base_uri": "https://localhost:8080/"
        },
        "id": "l43e-yFpRhdI",
        "outputId": "fdca7ad8-607e-4d63-d39a-c29ac8ea6408"
      },
      "outputs": [
        {
          "output_type": "stream",
          "name": "stdout",
          "text": [
            "Random Forest metrics after undersampling\n",
            "roc =  0.8113156472250563\n",
            "average precision =  0.1408020717921383\n",
            "recall =  0.7677890011223344\n",
            "classification report\n",
            "               precision    recall  f1-score   support\n",
            "\n",
            "           0       0.72      0.98      0.83      1055\n",
            "           1       0.78      0.14      0.23       478\n",
            "\n",
            "    accuracy                           0.72      1533\n",
            "   macro avg       0.75      0.56      0.53      1533\n",
            "weighted avg       0.73      0.72      0.64      1533\n",
            " \n",
            "\n",
            "Random Forest metrics after oversampling\n",
            "roc =  0.8173788009704607\n",
            "average precision =  0.15739915606352706\n",
            "recall =  0.542648709315376\n",
            "classification report\n",
            "               precision    recall  f1-score   support\n",
            "\n",
            "           0       0.81      0.97      0.88      1200\n",
            "           1       0.62      0.16      0.25       333\n",
            "\n",
            "    accuracy                           0.80      1533\n",
            "   macro avg       0.72      0.57      0.57      1533\n",
            "weighted avg       0.77      0.80      0.75      1533\n",
            " \n",
            "\n",
            "Random Forest metrics with class weights\n",
            "roc =  0.804584587353467\n",
            "average precision =  0.14392189037702363\n",
            "recall =  0.006060606060606061\n",
            "classification report\n",
            "               precision    recall  f1-score   support\n",
            "\n",
            "           0       1.00      0.94      0.97      1531\n",
            "           1       0.00      0.00      0.00         2\n",
            "\n",
            "    accuracy                           0.94      1533\n",
            "   macro avg       0.50      0.47      0.49      1533\n",
            "weighted avg       1.00      0.94      0.97      1533\n",
            " \n",
            "\n",
            "Random Forest metrics with edited nearst neighbors\n",
            "roc =  0.8154439849686259\n",
            "average precision =  0.1633372116313703\n",
            "recall =  0.12850729517396184\n",
            "classification report\n",
            "               precision    recall  f1-score   support\n",
            "\n",
            "           0       0.97      0.95      0.96      1480\n",
            "           1       0.12      0.19      0.14        53\n",
            "\n",
            "    accuracy                           0.92      1533\n",
            "   macro avg       0.54      0.57      0.55      1533\n",
            "weighted avg       0.94      0.92      0.93      1533\n",
            " \n",
            "\n"
          ]
        }
      ],
      "source": [
        "undersample_rf_pipe = make_imb_pipeline(RandomUnderSampler(), gb_pipe)\n",
        "oversample_rf_pipe = make_imb_pipeline(RandomOverSampler(), gb_pipe)\n",
        "rf_enn_pipe = make_imb_pipeline(preprocessor, EditedNearestNeighbours(n_neighbors=5), RandomForestClassifier())\n",
        "\n",
        "rf_with_cw = RandomForestClassifier(class_weight='balanced')\n",
        "rf_with_cw_pipe = make_pipeline(preprocessor, rf_with_cw)\n",
        "\n",
        "print(\"Random Forest metrics after undersampling\")\n",
        "printMetrics(undersample_rf_pipe, trainX, trainY, testX, testY, 5)\n",
        "\n",
        "print(\"Random Forest metrics after oversampling\")\n",
        "printMetrics(oversample_rf_pipe, trainX, trainY, testX, testY, 5)\n",
        "\n",
        "print(\"Random Forest metrics with class weights\")\n",
        "printMetrics(rf_with_cw_pipe, trainX, trainY, testX, testY, 5)\n",
        "\n",
        "\n",
        "print(\"Random Forest metrics with edited nearst neighbors\")\n",
        "printMetrics(rf_enn_pipe, trainX, trainY, testX, testY, 5)\n"
      ]
    },
    {
      "cell_type": "code",
      "execution_count": 21,
      "metadata": {
        "colab": {
          "base_uri": "https://localhost:8080/"
        },
        "id": "h_JjZMPhRygv",
        "outputId": "87c197d1-ceff-4f08-9957-357241ddc2ab"
      },
      "outputs": [
        {
          "output_type": "stream",
          "name": "stdout",
          "text": [
            "gradient boosing algorithm metrics after undersampling\n",
            "roc =  0.8088689347179144\n",
            "average precision =  0.16079169275531202\n",
            "recall =  0.7921436588103256\n",
            "classification report\n",
            "               precision    recall  f1-score   support\n",
            "\n",
            "           0       0.72      0.98      0.83      1074\n",
            "           1       0.71      0.13      0.22       459\n",
            "\n",
            "    accuracy                           0.72      1533\n",
            "   macro avg       0.72      0.55      0.53      1533\n",
            "weighted avg       0.72      0.72      0.65      1533\n",
            " \n",
            "\n",
            "gradient boosing algorithm metrics after oversampling\n",
            "roc =  0.8127922256656106\n",
            "average precision =  0.1687934839565024\n",
            "recall =  0.49966329966329964\n",
            "classification report\n",
            "               precision    recall  f1-score   support\n",
            "\n",
            "           0       0.80      0.97      0.88      1198\n",
            "           1       0.61      0.16      0.25       335\n",
            "\n",
            "    accuracy                           0.79      1533\n",
            "   macro avg       0.71      0.56      0.56      1533\n",
            "weighted avg       0.76      0.79      0.74      1533\n",
            " \n",
            "\n",
            "gradient boosing algorithm metrics with edited nearst neighbors\n",
            "roc =  0.8330131452624895\n",
            "average precision =  0.17456997060546442\n",
            "recall =  0.21335578002244668\n",
            "classification report\n",
            "               precision    recall  f1-score   support\n",
            "\n",
            "           0       0.96      0.95      0.95      1451\n",
            "           1       0.21      0.22      0.22        82\n",
            "\n",
            "    accuracy                           0.91      1533\n",
            "   macro avg       0.58      0.59      0.59      1533\n",
            "weighted avg       0.92      0.91      0.92      1533\n",
            " \n",
            "\n",
            "gradient boosing algorithm metrics with condensed nearst neighbors\n",
            "roc =  0.7790376187746629\n",
            "average precision =  0.11882590724328707\n",
            "recall =  0.12199775533108866\n",
            "classification report\n",
            "               precision    recall  f1-score   support\n",
            "\n",
            "           0       0.97      0.95      0.96      1485\n",
            "           1       0.09      0.17      0.12        48\n",
            "\n",
            "    accuracy                           0.92      1533\n",
            "   macro avg       0.53      0.56      0.54      1533\n",
            "weighted avg       0.94      0.92      0.93      1533\n",
            " \n",
            "\n"
          ]
        }
      ],
      "source": [
        "undersample_gb_pipe = make_imb_pipeline(RandomUnderSampler(), gb_pipe)\n",
        "oversample_gb_pipe = make_imb_pipeline(RandomOverSampler(), gb_pipe)\n",
        "gb_enn_pipe = make_imb_pipeline(preprocessor, EditedNearestNeighbours(n_neighbors=5), GradientBoostingClassifier())\n",
        "gb_cnn_pipe = make_imb_pipeline(preprocessor, CondensedNearestNeighbour(), GradientBoostingClassifier())\n",
        "\n",
        "\n",
        "print(\"gradient boosing algorithm metrics after undersampling\")\n",
        "printMetrics(undersample_gb_pipe, trainX, trainY, testX, testY, 5)\n",
        "\n",
        "print(\"gradient boosing algorithm metrics after oversampling\")\n",
        "printMetrics(oversample_gb_pipe, trainX, trainY, testX, testY, 5)\n",
        "\n",
        "print(\"gradient boosing algorithm metrics with edited nearst neighbors\")\n",
        "printMetrics(gb_enn_pipe, trainX, trainY, testX, testY, 5)\n",
        "\n",
        "\n",
        "print(\"gradient boosing algorithm metrics with condensed nearst neighbors\")\n",
        "printMetrics(gb_cnn_pipe, trainX, trainY, testX, testY, 5)\n"
      ]
    },
    {
      "cell_type": "markdown",
      "source": [
        "Observation- Performance increases by applying data balancing techniques"
      ],
      "metadata": {
        "id": "edjNsnqiV9lc"
      }
    },
    {
      "cell_type": "markdown",
      "metadata": {
        "id": "dDWM9qOMtbd2"
      },
      "source": [
        "## 3. Find the important features using Random Forest and Gradient Boosting algorithms."
      ]
    },
    {
      "cell_type": "markdown",
      "source": [
        "Feature importance"
      ],
      "metadata": {
        "id": "A9kU88B4V48_"
      }
    },
    {
      "cell_type": "code",
      "execution_count": 22,
      "metadata": {
        "colab": {
          "base_uri": "https://localhost:8080/"
        },
        "id": "KdGGYwGxwDgE",
        "outputId": "8fbbd9c6-dd89-4707-9361-eb0a24de4fe1"
      },
      "outputs": [
        {
          "output_type": "execute_result",
          "data": {
            "text/plain": [
              "(5110, 10)"
            ]
          },
          "metadata": {},
          "execution_count": 22
        }
      ],
      "source": [
        "data.head(5)\n",
        "data.shape"
      ]
    },
    {
      "cell_type": "code",
      "execution_count": 23,
      "metadata": {
        "colab": {
          "base_uri": "https://localhost:8080/",
          "height": 1000
        },
        "id": "d7x8IopUUlfW",
        "outputId": "9cd40e37-96eb-418e-9558-ca9dfdfef694"
      },
      "outputs": [
        {
          "output_type": "display_data",
          "data": {
            "text/plain": [
              "<Figure size 1080x1080 with 1 Axes>"
            ],
            "image/png": "[encoded data removed]"
          },
          "metadata": {
            "needs_background": "light"
          }
        }
      ],
      "source": [
        "# feature importance of Random forest\n",
        "#column_names = ['gender','age','hypertension','heart_disease','ever_married','work_type','residence_type', 'avg_glucose_level', 'bmi', 'smoking_status']\n",
        "feature_after_encoding = ['num__age',\n",
        " 'num__hypertension',\n",
        " 'num__heart_disease',\n",
        " 'num__avg_glucose_level',\n",
        " 'num__bmi',\n",
        " 'cat__gender_Female',\n",
        " 'cat__gender_Male',\n",
        " 'cat__gender_Other',\n",
        " 'cat__ever_married_No',\n",
        " 'cat__ever_married_Yes',\n",
        " 'cat__work_type_Govt_job',\n",
        " 'cat__work_type_Never_worked',\n",
        " 'cat__work_type_Private',\n",
        " 'cat__work_type_Self-employed',\n",
        " 'cat__work_type_children',\n",
        " 'cat__Residence_type_Rural',\n",
        " 'cat__Residence_type_Urban',\n",
        " 'cat__smoking_status_Unknown',\n",
        " 'cat__smoking_status_formerly smoked',\n",
        " 'cat__smoking_status_never smoked',\n",
        " 'cat__smoking_status_smokes']\n",
        "plt.figure(figsize=(15, 15))\n",
        "plt.bar(feature_after_encoding, rf_clf.feature_importances_)\n",
        "plt.xticks(range(len(feature_after_encoding)), feature_after_encoding, rotation='vertical')\n",
        "plt.show()"
      ]
    },
    {
      "cell_type": "code",
      "execution_count": 24,
      "metadata": {
        "colab": {
          "base_uri": "https://localhost:8080/",
          "height": 1000
        },
        "id": "x_3Ot_bElMj_",
        "outputId": "84f65b5a-167b-40f2-8f30-8b9349d5f7d4"
      },
      "outputs": [
        {
          "output_type": "display_data",
          "data": {
            "text/plain": [
              "<Figure size 1080x1080 with 1 Axes>"
            ],
            "image/png": "[encoded data removed]"
          },
          "metadata": {
            "needs_background": "light"
          }
        }
      ],
      "source": [
        "# feature importance of gradient boosting algorithm\n",
        "plt.figure(figsize=(15, 15))\n",
        "plt.bar(feature_after_encoding, gb_clf.feature_importances_)\n",
        "plt.xticks(range(len(feature_after_encoding)), feature_after_encoding, rotation='vertical')\n",
        "plt.show()"
      ]
    },
    {
      "cell_type": "code",
      "execution_count": 25,
      "metadata": {
        "colab": {
          "base_uri": "https://localhost:8080/",
          "height": 1000
        },
        "id": "Y1z5DjTilsAw",
        "outputId": "37969168-4708-4f7d-881e-b3acc60313c5"
      },
      "outputs": [
        {
          "output_type": "display_data",
          "data": {
            "text/plain": [
              "<Figure size 1080x1080 with 1 Axes>"
            ],
            "image/png": "[encoded data removed]"
          },
          "metadata": {
            "needs_background": "light"
          }
        }
      ],
      "source": [
        "# feature importance of decision trees \n",
        "plt.figure(figsize=(15, 15))\n",
        "plt.bar(feature_after_encoding, gb_clf.feature_importances_)\n",
        "plt.xticks(range(len(feature_after_encoding)), feature_after_encoding, rotation='vertical')\n",
        "plt.show()"
      ]
    },
    {
      "cell_type": "markdown",
      "source": [
        "Observation- Age, avg_glucose_level, bmi_level are the important features in gradient boosting and random forest algorithms while some features are not at all important."
      ],
      "metadata": {
        "id": "CQMfQvdIgWkb"
      }
    },
    {
      "cell_type": "markdown",
      "metadata": {
        "id": "3kb28uYuMTIg"
      },
      "source": [
        "## Q4. Write a brief report on how different data balancing techniques improved the performance of your models."
      ]
    },
    {
      "cell_type": "markdown",
      "metadata": {
        "id": "0vO25e5awqMf"
      },
      "source": [
        "Answer: \n",
        "\n",
        "Considering all the algorithms we used above, the performance is improved when data balancing techniques are applied. To understand what metric to use to evaluate performance completely depends on predictive model. For example, if the aim is to have a predictive model for both binary classes as accurate as possible, f1 score or roc_auc would be a good choice. However, if the only thing we need is to predict patients with stroke as accurate as possible, recall would be more appropriate.\n",
        "\n",
        "The recall is intuitively the ability of the classifier to find all the positive samples. Decision tree performs well with imbalanced dataset, whereas after applying data balancing technique the recall score is closer to 1 for undersampling, oversampling and class weight techniques which says it has better performance.\n",
        "The precision falls a bit but the metric used for evaluation-recall increases. Edited nearest neighbours technique applied to the Decision tree algorithm doesn't perform well with a recall score of 0.25 which is much less than all other techniques.\n",
        "\n",
        "Random Forest had a recall score of 0 with imbalanced dataset, whereas after applying the undersampling and oversampling techniques it performs better. The other two techniques has less recall value which means less ability to find true samples. It has a good decision boundary roc curve for all the techniques.\n",
        "\n",
        "Gradient Boosting algorithm can be seen as a best model with imbalanced dataset. Data balancing technique has improved the performance in classifying majority and minority samples(oversampling and undersampling technique). Roc curve is also high."
      ]
    }
  ],
  "metadata": {
    "colab": {
      "collapsed_sections": [],
      "name": "AML4.ipynb",
      "provenance": []
    },
    "kernelspec": {
      "display_name": "Python 3",
      "name": "python3"
    },
    "language_info": {
      "name": "python"
    }
  },
  "nbformat": 4,
  "nbformat_minor": 0
}